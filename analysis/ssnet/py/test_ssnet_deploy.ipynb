{
 "cells": [
  {
   "cell_type": "code",
   "execution_count": 1,
   "metadata": {},
   "outputs": [
    {
     "name": "stdout",
     "output_type": "stream",
     "text": [
      "Welcome to JupyROOT 6.14/02\n"
     ]
    }
   ],
   "source": [
    "# the ROOT framework \n",
    "import ROOT as rt\n",
    "# load the larcv library\n",
    "from larcv import larcv\n",
    "# load matplotlib for image viewing\n",
    "import matplotlib.pyplot as plt"
   ]
  },
  {
   "cell_type": "code",
   "execution_count": 2,
   "metadata": {},
   "outputs": [
    {
     "data": {
      "text/plain": [
       "0"
      ]
     },
     "execution_count": 2,
     "metadata": {},
     "output_type": "execute_result"
    }
   ],
   "source": [
    "# Load library containing SSNetDataLoader class\n",
    "# returns 0 if successful\n",
    "rt.gSystem.Load(\"../libssnetdata\")"
   ]
  },
  {
   "cell_type": "code",
   "execution_count": 3,
   "metadata": {},
   "outputs": [
    {
     "name": "stdout",
     "output_type": "stream",
     "text": [
      "<class 'ROOT.ssnet'>\n"
     ]
    }
   ],
   "source": [
    "#  check if 'ssnet' namespace is available\n",
    "# should see <class 'ROOT.ssnet'> is works\n",
    "from ROOT import ssnet as ssnet # imports namespace from ROOT\n",
    "print ssnet"
   ]
  },
  {
   "cell_type": "code",
   "execution_count": 4,
   "metadata": {},
   "outputs": [
    {
     "name": "stdout",
     "output_type": "stream",
     "text": [
      "<ROOT.ssnet::SSNetDataLoader object at 0x558cd5e029e0>\n"
     ]
    }
   ],
   "source": [
    "# create instance of class with data\n",
    "# should see: <ROOT.ssnet::SSNetDataLoader object at [random address]>\n",
    "try:\n",
    "    # clear out old loader\n",
    "    del dataloader\n",
    "except:\n",
    "    pass\n",
    "dataloader = ssnet.SSNetDataLoader()\n",
    "print dataloader"
   ]
  },
  {
   "cell_type": "code",
   "execution_count": 5,
   "metadata": {},
   "outputs": [
    {
     "name": "stdout",
     "output_type": "stream",
     "text": [
      "    \u001b[95m[NORMAL]\u001b[00m \u001b[0m \u001b[94m<ssnetio::prepare_input>\u001b[00m Opening a file in READ mode: ../test_10k.root\n",
      "    \u001b[95m[NORMAL]\u001b[00m \u001b[0m \u001b[94m<ssnetio::initialize>\u001b[00m Prepared input with 10000 entries...\n",
      "    \u001b[95m[NORMAL]\u001b[00m \u001b[0m \u001b[94m<SSNetDataLoader::setup>\u001b[00m meta: Plane 65535 (cols,rows) = (256,256) ... pixel (width,height)=(0,0) ... Left Top (x,y)=(0,0) ... Right Bottom (x,y)=(0,0)\n",
      "    \u001b[95m[NORMAL]\u001b[00m \u001b[0m \u001b[94m<SSNetDataLoader::setup>\u001b[00m meta: Plane 65535 (cols,rows) = (256,256) ... pixel (width,height)=(0,0) ... Left Top (x,y)=(0,0) ... Right Bottom (x,y)=(0,0)\n",
      "    \u001b[95m[NORMAL]\u001b[00m \u001b[0m \u001b[94m<SSNetDataLoader::setup>\u001b[00m meta: Plane 65535 (cols,rows) = (256,256) ... pixel (width,height)=(0,0) ... Left Top (x,y)=(0,0) ... Right Bottom (x,y)=(0,0)\n",
      "    \u001b[95m[NORMAL]\u001b[00m \u001b[0m \u001b[94m<SSNetDataLoader::setup>\u001b[00m Ready to return images with (row,col) size of (256,256)\n"
     ]
    },
    {
     "name": "stderr",
     "output_type": "stream",
     "text": [
      "Warning in <TClass::Init>: no dictionary for class larcv::EventClusterPixel2D is available\n",
      "Warning in <TClass::Init>: no dictionary for class larcv::ClusterPixel2D is available\n",
      "Warning in <TClass::Init>: no dictionary for class larcv::VoxelSetArray is available\n",
      "Warning in <TClass::Init>: no dictionary for class larcv::EventParticle is available\n",
      "Warning in <TClass::Init>: no dictionary for class larcv::ParticleSet is available\n",
      "Warning in <TClass::Init>: no dictionary for class larcv::Particle is available\n",
      "Warning in <TClass::Init>: no dictionary for class larcv::VoxelSet is available\n",
      "Warning in <TClass::Init>: no dictionary for class larcv::Voxel is available\n"
     ]
    }
   ],
   "source": [
    "# load input file\n",
    "inputfile = \"../test_10k.root\"\n",
    "dataloader.setup( inputfile, 0, True )"
   ]
  },
  {
   "cell_type": "code",
   "execution_count": 6,
   "metadata": {},
   "outputs": [],
   "source": [
    "# import pytorch and uresnet network\n",
    "import torch\n",
    "import uresnet\n",
    "from uresnet.models.uresnet_dense import UResNet\n",
    "from uresnet.models.uresnet_dense import SegmentationLoss\n",
    "from uresnet.flags import URESNET_FLAGS"
   ]
  },
  {
   "cell_type": "code",
   "execution_count": 12,
   "metadata": {},
   "outputs": [
    {
     "data": {
      "text/plain": [
       "UResNet(\n",
       "  (conv1): Sequential(\n",
       "    (0): Conv2d(1, 16, kernel_size=(3, 3), stride=(1, 1))\n",
       "    (1): BatchNorm2d(16, eps=1e-05, momentum=0.9, affine=True, track_running_stats=False)\n",
       "    (2): ReLU()\n",
       "  )\n",
       "  (double_resnet): ModuleList(\n",
       "    (0): DoubleResnet(\n",
       "      (resnet1): ResNetModule(\n",
       "        (shortcut): Sequential(\n",
       "          (0): Conv2d(16, 32, kernel_size=(1, 1), stride=(2, 2))\n",
       "          (1): BatchNorm2d(32, eps=1e-05, momentum=0.9, affine=True, track_running_stats=False)\n",
       "        )\n",
       "        (residual1): Sequential(\n",
       "          (0): Conv2d(16, 32, kernel_size=(3, 3), stride=(2, 2))\n",
       "          (1): BatchNorm2d(32, eps=1e-05, momentum=0.9, affine=True, track_running_stats=False)\n",
       "        )\n",
       "        (residual2): Sequential(\n",
       "          (0): Conv2d(32, 32, kernel_size=(3, 3), stride=(1, 1))\n",
       "          (1): BatchNorm2d(32, eps=1e-05, momentum=0.9, affine=True, track_running_stats=False)\n",
       "        )\n",
       "      )\n",
       "      (resnet2): ResNetModule(\n",
       "        (shortcut): Sequential(\n",
       "          (0): Conv2d(32, 32, kernel_size=(1, 1), stride=(1, 1))\n",
       "          (1): BatchNorm2d(32, eps=1e-05, momentum=0.9, affine=True, track_running_stats=False)\n",
       "        )\n",
       "        (residual1): Sequential(\n",
       "          (0): Conv2d(32, 32, kernel_size=(3, 3), stride=(1, 1))\n",
       "          (1): BatchNorm2d(32, eps=1e-05, momentum=0.9, affine=True, track_running_stats=False)\n",
       "        )\n",
       "        (residual2): Sequential(\n",
       "          (0): Conv2d(32, 32, kernel_size=(3, 3), stride=(1, 1))\n",
       "          (1): BatchNorm2d(32, eps=1e-05, momentum=0.9, affine=True, track_running_stats=False)\n",
       "        )\n",
       "      )\n",
       "    )\n",
       "    (1): DoubleResnet(\n",
       "      (resnet1): ResNetModule(\n",
       "        (shortcut): Sequential(\n",
       "          (0): Conv2d(32, 64, kernel_size=(1, 1), stride=(2, 2))\n",
       "          (1): BatchNorm2d(64, eps=1e-05, momentum=0.9, affine=True, track_running_stats=False)\n",
       "        )\n",
       "        (residual1): Sequential(\n",
       "          (0): Conv2d(32, 64, kernel_size=(3, 3), stride=(2, 2))\n",
       "          (1): BatchNorm2d(64, eps=1e-05, momentum=0.9, affine=True, track_running_stats=False)\n",
       "        )\n",
       "        (residual2): Sequential(\n",
       "          (0): Conv2d(64, 64, kernel_size=(3, 3), stride=(1, 1))\n",
       "          (1): BatchNorm2d(64, eps=1e-05, momentum=0.9, affine=True, track_running_stats=False)\n",
       "        )\n",
       "      )\n",
       "      (resnet2): ResNetModule(\n",
       "        (shortcut): Sequential(\n",
       "          (0): Conv2d(64, 64, kernel_size=(1, 1), stride=(1, 1))\n",
       "          (1): BatchNorm2d(64, eps=1e-05, momentum=0.9, affine=True, track_running_stats=False)\n",
       "        )\n",
       "        (residual1): Sequential(\n",
       "          (0): Conv2d(64, 64, kernel_size=(3, 3), stride=(1, 1))\n",
       "          (1): BatchNorm2d(64, eps=1e-05, momentum=0.9, affine=True, track_running_stats=False)\n",
       "        )\n",
       "        (residual2): Sequential(\n",
       "          (0): Conv2d(64, 64, kernel_size=(3, 3), stride=(1, 1))\n",
       "          (1): BatchNorm2d(64, eps=1e-05, momentum=0.9, affine=True, track_running_stats=False)\n",
       "        )\n",
       "      )\n",
       "    )\n",
       "    (2): DoubleResnet(\n",
       "      (resnet1): ResNetModule(\n",
       "        (shortcut): Sequential(\n",
       "          (0): Conv2d(64, 128, kernel_size=(1, 1), stride=(2, 2))\n",
       "          (1): BatchNorm2d(128, eps=1e-05, momentum=0.9, affine=True, track_running_stats=False)\n",
       "        )\n",
       "        (residual1): Sequential(\n",
       "          (0): Conv2d(64, 128, kernel_size=(3, 3), stride=(2, 2))\n",
       "          (1): BatchNorm2d(128, eps=1e-05, momentum=0.9, affine=True, track_running_stats=False)\n",
       "        )\n",
       "        (residual2): Sequential(\n",
       "          (0): Conv2d(128, 128, kernel_size=(3, 3), stride=(1, 1))\n",
       "          (1): BatchNorm2d(128, eps=1e-05, momentum=0.9, affine=True, track_running_stats=False)\n",
       "        )\n",
       "      )\n",
       "      (resnet2): ResNetModule(\n",
       "        (shortcut): Sequential(\n",
       "          (0): Conv2d(128, 128, kernel_size=(1, 1), stride=(1, 1))\n",
       "          (1): BatchNorm2d(128, eps=1e-05, momentum=0.9, affine=True, track_running_stats=False)\n",
       "        )\n",
       "        (residual1): Sequential(\n",
       "          (0): Conv2d(128, 128, kernel_size=(3, 3), stride=(1, 1))\n",
       "          (1): BatchNorm2d(128, eps=1e-05, momentum=0.9, affine=True, track_running_stats=False)\n",
       "        )\n",
       "        (residual2): Sequential(\n",
       "          (0): Conv2d(128, 128, kernel_size=(3, 3), stride=(1, 1))\n",
       "          (1): BatchNorm2d(128, eps=1e-05, momentum=0.9, affine=True, track_running_stats=False)\n",
       "        )\n",
       "      )\n",
       "    )\n",
       "    (3): DoubleResnet(\n",
       "      (resnet1): ResNetModule(\n",
       "        (shortcut): Sequential(\n",
       "          (0): Conv2d(128, 256, kernel_size=(1, 1), stride=(2, 2))\n",
       "          (1): BatchNorm2d(256, eps=1e-05, momentum=0.9, affine=True, track_running_stats=False)\n",
       "        )\n",
       "        (residual1): Sequential(\n",
       "          (0): Conv2d(128, 256, kernel_size=(3, 3), stride=(2, 2))\n",
       "          (1): BatchNorm2d(256, eps=1e-05, momentum=0.9, affine=True, track_running_stats=False)\n",
       "        )\n",
       "        (residual2): Sequential(\n",
       "          (0): Conv2d(256, 256, kernel_size=(3, 3), stride=(1, 1))\n",
       "          (1): BatchNorm2d(256, eps=1e-05, momentum=0.9, affine=True, track_running_stats=False)\n",
       "        )\n",
       "      )\n",
       "      (resnet2): ResNetModule(\n",
       "        (shortcut): Sequential(\n",
       "          (0): Conv2d(256, 256, kernel_size=(1, 1), stride=(1, 1))\n",
       "          (1): BatchNorm2d(256, eps=1e-05, momentum=0.9, affine=True, track_running_stats=False)\n",
       "        )\n",
       "        (residual1): Sequential(\n",
       "          (0): Conv2d(256, 256, kernel_size=(3, 3), stride=(1, 1))\n",
       "          (1): BatchNorm2d(256, eps=1e-05, momentum=0.9, affine=True, track_running_stats=False)\n",
       "        )\n",
       "        (residual2): Sequential(\n",
       "          (0): Conv2d(256, 256, kernel_size=(3, 3), stride=(1, 1))\n",
       "          (1): BatchNorm2d(256, eps=1e-05, momentum=0.9, affine=True, track_running_stats=False)\n",
       "        )\n",
       "      )\n",
       "    )\n",
       "  )\n",
       "  (decode_conv): ModuleList(\n",
       "    (0): Sequential(\n",
       "      (0): ConvTranspose2d(256, 128, kernel_size=(3, 3), stride=(2, 2), padding=(1, 1), output_padding=(1, 1))\n",
       "      (1): BatchNorm2d(128, eps=1e-05, momentum=0.9, affine=True, track_running_stats=False)\n",
       "      (2): ReLU()\n",
       "    )\n",
       "    (1): Sequential(\n",
       "      (0): ConvTranspose2d(128, 64, kernel_size=(3, 3), stride=(2, 2), padding=(1, 1), output_padding=(1, 1))\n",
       "      (1): BatchNorm2d(64, eps=1e-05, momentum=0.9, affine=True, track_running_stats=False)\n",
       "      (2): ReLU()\n",
       "    )\n",
       "    (2): Sequential(\n",
       "      (0): ConvTranspose2d(64, 32, kernel_size=(3, 3), stride=(2, 2), padding=(1, 1), output_padding=(1, 1))\n",
       "      (1): BatchNorm2d(32, eps=1e-05, momentum=0.9, affine=True, track_running_stats=False)\n",
       "      (2): ReLU()\n",
       "    )\n",
       "    (3): Sequential(\n",
       "      (0): ConvTranspose2d(32, 16, kernel_size=(3, 3), stride=(2, 2), padding=(1, 1), output_padding=(1, 1))\n",
       "      (1): BatchNorm2d(16, eps=1e-05, momentum=0.9, affine=True, track_running_stats=False)\n",
       "      (2): ReLU()\n",
       "    )\n",
       "  )\n",
       "  (decode_double_resnet): ModuleList(\n",
       "    (0): DoubleResnet(\n",
       "      (resnet1): ResNetModule(\n",
       "        (shortcut): Sequential(\n",
       "          (0): Conv2d(256, 128, kernel_size=(1, 1), stride=(1, 1))\n",
       "          (1): BatchNorm2d(128, eps=1e-05, momentum=0.9, affine=True, track_running_stats=False)\n",
       "        )\n",
       "        (residual1): Sequential(\n",
       "          (0): Conv2d(256, 128, kernel_size=(3, 3), stride=(1, 1))\n",
       "          (1): BatchNorm2d(128, eps=1e-05, momentum=0.9, affine=True, track_running_stats=False)\n",
       "        )\n",
       "        (residual2): Sequential(\n",
       "          (0): Conv2d(128, 128, kernel_size=(3, 3), stride=(1, 1))\n",
       "          (1): BatchNorm2d(128, eps=1e-05, momentum=0.9, affine=True, track_running_stats=False)\n",
       "        )\n",
       "      )\n",
       "      (resnet2): ResNetModule(\n",
       "        (shortcut): Sequential(\n",
       "          (0): Conv2d(128, 128, kernel_size=(1, 1), stride=(1, 1))\n",
       "          (1): BatchNorm2d(128, eps=1e-05, momentum=0.9, affine=True, track_running_stats=False)\n",
       "        )\n",
       "        (residual1): Sequential(\n",
       "          (0): Conv2d(128, 128, kernel_size=(3, 3), stride=(1, 1))\n",
       "          (1): BatchNorm2d(128, eps=1e-05, momentum=0.9, affine=True, track_running_stats=False)\n",
       "        )\n",
       "        (residual2): Sequential(\n",
       "          (0): Conv2d(128, 128, kernel_size=(3, 3), stride=(1, 1))\n",
       "          (1): BatchNorm2d(128, eps=1e-05, momentum=0.9, affine=True, track_running_stats=False)\n",
       "        )\n",
       "      )\n",
       "    )\n",
       "    (1): DoubleResnet(\n",
       "      (resnet1): ResNetModule(\n",
       "        (shortcut): Sequential(\n",
       "          (0): Conv2d(128, 64, kernel_size=(1, 1), stride=(1, 1))\n",
       "          (1): BatchNorm2d(64, eps=1e-05, momentum=0.9, affine=True, track_running_stats=False)\n",
       "        )\n",
       "        (residual1): Sequential(\n",
       "          (0): Conv2d(128, 64, kernel_size=(3, 3), stride=(1, 1))\n",
       "          (1): BatchNorm2d(64, eps=1e-05, momentum=0.9, affine=True, track_running_stats=False)\n",
       "        )\n",
       "        (residual2): Sequential(\n",
       "          (0): Conv2d(64, 64, kernel_size=(3, 3), stride=(1, 1))\n",
       "          (1): BatchNorm2d(64, eps=1e-05, momentum=0.9, affine=True, track_running_stats=False)\n",
       "        )\n",
       "      )\n",
       "      (resnet2): ResNetModule(\n",
       "        (shortcut): Sequential(\n",
       "          (0): Conv2d(64, 64, kernel_size=(1, 1), stride=(1, 1))\n",
       "          (1): BatchNorm2d(64, eps=1e-05, momentum=0.9, affine=True, track_running_stats=False)\n",
       "        )\n",
       "        (residual1): Sequential(\n",
       "          (0): Conv2d(64, 64, kernel_size=(3, 3), stride=(1, 1))\n",
       "          (1): BatchNorm2d(64, eps=1e-05, momentum=0.9, affine=True, track_running_stats=False)\n",
       "        )\n",
       "        (residual2): Sequential(\n",
       "          (0): Conv2d(64, 64, kernel_size=(3, 3), stride=(1, 1))\n",
       "          (1): BatchNorm2d(64, eps=1e-05, momentum=0.9, affine=True, track_running_stats=False)\n",
       "        )\n",
       "      )\n",
       "    )\n",
       "    (2): DoubleResnet(\n",
       "      (resnet1): ResNetModule(\n",
       "        (shortcut): Sequential(\n",
       "          (0): Conv2d(64, 32, kernel_size=(1, 1), stride=(1, 1))\n",
       "          (1): BatchNorm2d(32, eps=1e-05, momentum=0.9, affine=True, track_running_stats=False)\n",
       "        )\n",
       "        (residual1): Sequential(\n",
       "          (0): Conv2d(64, 32, kernel_size=(3, 3), stride=(1, 1))\n",
       "          (1): BatchNorm2d(32, eps=1e-05, momentum=0.9, affine=True, track_running_stats=False)\n",
       "        )\n",
       "        (residual2): Sequential(\n",
       "          (0): Conv2d(32, 32, kernel_size=(3, 3), stride=(1, 1))\n",
       "          (1): BatchNorm2d(32, eps=1e-05, momentum=0.9, affine=True, track_running_stats=False)\n",
       "        )\n",
       "      )\n",
       "      (resnet2): ResNetModule(\n",
       "        (shortcut): Sequential(\n",
       "          (0): Conv2d(32, 32, kernel_size=(1, 1), stride=(1, 1))\n",
       "          (1): BatchNorm2d(32, eps=1e-05, momentum=0.9, affine=True, track_running_stats=False)\n",
       "        )\n",
       "        (residual1): Sequential(\n",
       "          (0): Conv2d(32, 32, kernel_size=(3, 3), stride=(1, 1))\n",
       "          (1): BatchNorm2d(32, eps=1e-05, momentum=0.9, affine=True, track_running_stats=False)\n",
       "        )\n",
       "        (residual2): Sequential(\n",
       "          (0): Conv2d(32, 32, kernel_size=(3, 3), stride=(1, 1))\n",
       "          (1): BatchNorm2d(32, eps=1e-05, momentum=0.9, affine=True, track_running_stats=False)\n",
       "        )\n",
       "      )\n",
       "    )\n",
       "    (3): DoubleResnet(\n",
       "      (resnet1): ResNetModule(\n",
       "        (shortcut): Sequential(\n",
       "          (0): Conv2d(32, 16, kernel_size=(1, 1), stride=(1, 1))\n",
       "          (1): BatchNorm2d(16, eps=1e-05, momentum=0.9, affine=True, track_running_stats=False)\n",
       "        )\n",
       "        (residual1): Sequential(\n",
       "          (0): Conv2d(32, 16, kernel_size=(3, 3), stride=(1, 1))\n",
       "          (1): BatchNorm2d(16, eps=1e-05, momentum=0.9, affine=True, track_running_stats=False)\n",
       "        )\n",
       "        (residual2): Sequential(\n",
       "          (0): Conv2d(16, 16, kernel_size=(3, 3), stride=(1, 1))\n",
       "          (1): BatchNorm2d(16, eps=1e-05, momentum=0.9, affine=True, track_running_stats=False)\n",
       "        )\n",
       "      )\n",
       "      (resnet2): ResNetModule(\n",
       "        (shortcut): Sequential(\n",
       "          (0): Conv2d(16, 16, kernel_size=(1, 1), stride=(1, 1))\n",
       "          (1): BatchNorm2d(16, eps=1e-05, momentum=0.9, affine=True, track_running_stats=False)\n",
       "        )\n",
       "        (residual1): Sequential(\n",
       "          (0): Conv2d(16, 16, kernel_size=(3, 3), stride=(1, 1))\n",
       "          (1): BatchNorm2d(16, eps=1e-05, momentum=0.9, affine=True, track_running_stats=False)\n",
       "        )\n",
       "        (residual2): Sequential(\n",
       "          (0): Conv2d(16, 16, kernel_size=(3, 3), stride=(1, 1))\n",
       "          (1): BatchNorm2d(16, eps=1e-05, momentum=0.9, affine=True, track_running_stats=False)\n",
       "        )\n",
       "      )\n",
       "    )\n",
       "  )\n",
       "  (conv2): Sequential(\n",
       "    (0): Conv2d(16, 16, kernel_size=(3, 3), stride=(1, 1))\n",
       "    (1): BatchNorm2d(16, eps=1e-05, momentum=0.9, affine=True, track_running_stats=False)\n",
       "    (2): ReLU()\n",
       "  )\n",
       "  (conv3): Sequential(\n",
       "    (0): Conv2d(16, 3, kernel_size=(3, 3), stride=(1, 1))\n",
       "    (1): BatchNorm2d(3, eps=1e-05, momentum=0.9, affine=True, track_running_stats=False)\n",
       "  )\n",
       ")"
      ]
     },
     "execution_count": 12,
     "metadata": {},
     "output_type": "execute_result"
    }
   ],
   "source": [
    "# Configure network and load it\n",
    "flags = URESNET_FLAGS()\n",
    "flags.DATA_DIM = 2\n",
    "flags.URESNET_FILTERS = 16\n",
    "flags.URESNET_NUM_STRIDES = 4\n",
    "flags.SPATIAL_SIZE = 256\n",
    "flags.NUM_CLASS = 3 # bg, shower, track                                                                                                                                                                     \n",
    "flags.LEARNING_RATE = 1.0e-3\n",
    "flags.WEIGHT_DECAY = 1.0e-4\n",
    "flags.BATCH_SIZE = 16\n",
    "flags.checkpoint_file = \"../checkpoint.run1.11000th.tar\" # 16 features, images not conditioned\n",
    "\n",
    "DEVICE = torch.device(\"cpu\")\n",
    "\n",
    "# MODEL\n",
    "model = UResNet(flags).to(DEVICE)\n",
    "\n",
    "device_map = {\"cuda:0\":\"cpu\",\n",
    "              \"cuda:1\":\"cpu\"}\n",
    "checkpoint = torch.load( flags.checkpoint_file, map_location=device_map )\n",
    "model.load_state_dict( checkpoint[\"state\"] )\n",
    "model.eval()\n",
    "#print model"
   ]
  },
  {
   "cell_type": "code",
   "execution_count": 13,
   "metadata": {},
   "outputs": [
    {
     "name": "stdout",
     "output_type": "stream",
     "text": [
      "63977\n"
     ]
    },
    {
     "name": "stderr",
     "output_type": "stream",
     "text": [
      "/usr/local/lib/python2.7/dist-packages/matplotlib/figure.py:403: UserWarning: matplotlib is currently using a non-GUI backend, so cannot show the figure\n",
      "  \"matplotlib is currently using a non-GUI backend, \"\n"
     ]
    },
    {
     "data": {
      "image/png": "[encoded data removed]",
      "text/plain": [
       "<matplotlib.figure.Figure at 0x7ff4e7528ed0>"
      ]
     },
     "metadata": {
      "needs_background": "light"
     },
     "output_type": "display_data"
    }
   ],
   "source": [
    "# get image and view image\n",
    "datadict = dataloader.makeTrainingDataDict(1,2)\n",
    "img = datadict['image_t']\n",
    "print (img<10).sum()\n",
    "img[img<10] = 0.0\n",
    "img[img>1000] = 1000\n",
    "\n",
    "fig, ax = plt.subplots(1,2,figsize=(20, 10))\n",
    "ax[0].imshow(datadict['image_t'][0,0,:,:], cmap='hot', interpolation='nearest')\n",
    "#ax[0].title('Pixel Values')\n",
    "\n",
    "\n",
    "ax[1].imshow(datadict['label_t'][0,0,:,:], cmap='hot', interpolation='nearest')\n",
    "#plt.imshow(datadict['label_t'][0,0,:,:], cmap='hot', interpolation='nearest')\n",
    "#plt.title('Labels Values')\n",
    "#plt.show()\n",
    "fig.show()"
   ]
  },
  {
   "cell_type": "code",
   "execution_count": 24,
   "metadata": {},
   "outputs": [
    {
     "name": "stdout",
     "output_type": "stream",
     "text": [
      "torch.Size([1, 3, 256, 256])\n",
      "pred-shape:  (1, 1, 256, 256)\n"
     ]
    }
   ],
   "source": [
    "# run network\n",
    "image_t = torch.from_numpy( datadict['image_t'] )\n",
    "with torch.no_grad():\n",
    "    out_t = model.forward( image_t )\n",
    "print out_t.shape\n",
    "# use softmax\n",
    "pred_t = torch.argmax( torch.nn.Softmax(dim=1)(out_t), dim=1, keepdim=True ).numpy()\n",
    "print \"pred-shape: \",pred_t.shape\n",
    "# keep scores on interesting pixels\n",
    "pred_t[ datadict['image_t']<10 ] = 0\n"
   ]
  },
  {
   "cell_type": "code",
   "execution_count": 29,
   "metadata": {},
   "outputs": [
    {
     "data": {
      "image/png": "[encoded data removed]",
      "text/plain": [
       "<matplotlib.figure.Figure at 0x7ff4d88e3110>"
      ]
     },
     "metadata": {
      "needs_background": "light"
     },
     "output_type": "display_data"
    }
   ],
   "source": [
    "fig, ax = plt.subplots(1,2,figsize=(20, 10))\n",
    "\n",
    "# LEFT: PREDICTION\n",
    "ax[0].imshow(pred_t[0,0,:,:], cmap='hot', interpolation='nearest')\n",
    "\n",
    "\n",
    "# RIGHT: TRUTH\n",
    "ax[1].imshow(datadict['label_t'][0,0,:,:], cmap='hot', interpolation='nearest')\n",
    "#plt.imshow(datadict['label_t'][0,0,:,:], cmap='hot', interpolation='nearest')\n",
    "#plt.title('Labels Values')\n",
    "#plt.show()\n",
    "fig.show()"
   ]
  },
  {
   "cell_type": "code",
   "execution_count": 30,
   "metadata": {},
   "outputs": [
    {
     "name": "stdout",
     "output_type": "stream",
     "text": [
      "64655\n",
      "torch.Size([1, 3, 256, 256])\n",
      "pred-shape:  (1, 1, 256, 256)\n"
     ]
    },
    {
     "data": {
      "image/png": "[encoded data removed]",
      "text/plain": [
       "<matplotlib.figure.Figure at 0x7ff4d88f2fd0>"
      ]
     },
     "metadata": {
      "needs_background": "light"
     },
     "output_type": "display_data"
    }
   ],
   "source": [
    "# ALL IN ONE\n",
    "\n",
    "# GET DATA\n",
    "datadict = dataloader.makeTrainingDataDict(1,2)\n",
    "img = datadict['image_t']\n",
    "print (img<10).sum()\n",
    "img[img<10] = 0.0\n",
    "img[img>1000] = 1000\n",
    "\n",
    "# RUN NET\n",
    "image_t = torch.from_numpy( img )\n",
    "with torch.no_grad():\n",
    "    out_t = model.forward( image_t )\n",
    "print out_t.shape\n",
    "# use softmax\n",
    "pred_t = torch.argmax( torch.nn.Softmax(dim=1)(out_t), dim=1, keepdim=True ).numpy()\n",
    "print \"pred-shape: \",pred_t.shape\n",
    "# keep scores on interesting pixels\n",
    "pred_t[ img<10 ] = 0\n",
    "\n",
    "# PLOT\n",
    "fig, ax = plt.subplots(1,3,figsize=(15, 5))\n",
    "\n",
    "\n",
    "# LEFT: INPUT\n",
    "ax[0].imshow(img[0,0,:,:],cmap='hot', interpolation='nearest')\n",
    "\n",
    "# CENTER: PREDICTION\n",
    "ax[1].imshow(pred_t[0,0,:,:], cmap='hot', interpolation='nearest')\n",
    "\n",
    "\n",
    "# RIGHT: TRUTH\n",
    "ax[2].imshow(datadict['label_t'][0,0,:,:], cmap='hot', interpolation='nearest')\n",
    "\n",
    "\n",
    "fig.show()\n"
   ]
  },
  {
   "cell_type": "code",
   "execution_count": null,
   "metadata": {},
   "outputs": [],
   "source": []
  }
 ],
 "metadata": {
  "kernelspec": {
   "display_name": "Python 2",
   "language": "python",
   "name": "python2"
  },
  "language_info": {
   "codemirror_mode": {
    "name": "ipython",
    "version": 2
   },
   "file_extension": ".py",
   "mimetype": "text/x-python",
   "name": "python",
   "nbconvert_exporter": "python",
   "pygments_lexer": "ipython2",
   "version": "2.7.17"
  }
 },
 "nbformat": 4,
 "nbformat_minor": 2
}
