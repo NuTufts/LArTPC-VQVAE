{
 "cells": [
  {
   "cell_type": "code",
   "execution_count": 1,
   "metadata": {},
   "outputs": [
    {
     "name": "stdout",
     "output_type": "stream",
     "text": [
      "Welcome to JupyROOT 6.14/02\n"
     ]
    }
   ],
   "source": [
    "# the ROOT framework \n",
    "import ROOT as rt\n",
    "# load the larcv library\n",
    "from larcv import larcv\n",
    "# load matplotlib for image viewing\n",
    "import matplotlib.pyplot as plt"
   ]
  },
  {
   "cell_type": "code",
   "execution_count": 2,
   "metadata": {},
   "outputs": [
    {
     "data": {
      "text/plain": [
       "0"
      ]
     },
     "execution_count": 2,
     "metadata": {},
     "output_type": "execute_result"
    }
   ],
   "source": [
    "# Load library containing SSNetDataLoader class\n",
    "# returns 1 if successful\n",
    "rt.gSystem.Load(\"../libssnetdata\")"
   ]
  },
  {
   "cell_type": "code",
   "execution_count": 3,
   "metadata": {},
   "outputs": [
    {
     "name": "stdout",
     "output_type": "stream",
     "text": [
      "<class 'ROOT.ssnet'>\n"
     ]
    }
   ],
   "source": [
    "#  check if 'ssnet' namespace is available\n",
    "# should see <class 'ROOT.ssnet'> is works\n",
    "from ROOT import ssnet as ssnet # imports namespace from ROOT\n",
    "print ssnet"
   ]
  },
  {
   "cell_type": "code",
   "execution_count": 4,
   "metadata": {},
   "outputs": [
    {
     "name": "stdout",
     "output_type": "stream",
     "text": [
      "<ROOT.ssnet::SSNetDataLoader object at 0x561c937db760>\n"
     ]
    }
   ],
   "source": [
    "# create instance of class with data\n",
    "# should see: <ROOT.ssnet::SSNetDataLoader object at [random address]>\n",
    "try:\n",
    "    # clear out old loader\n",
    "    del dataloader\n",
    "except:\n",
    "    pass\n",
    "dataloader = ssnet.SSNetDataLoader()\n",
    "print dataloader"
   ]
  },
  {
   "cell_type": "code",
   "execution_count": 5,
   "metadata": {},
   "outputs": [
    {
     "name": "stdout",
     "output_type": "stream",
     "text": [
      "    \u001b[95m[NORMAL]\u001b[00m \u001b[0m \u001b[94m<ssnetio::prepare_input>\u001b[00m Opening a file in READ mode: ../test_10k.root\n",
      "    \u001b[95m[NORMAL]\u001b[00m \u001b[0m \u001b[94m<ssnetio::initialize>\u001b[00m Prepared input with 10000 entries...\n",
      "    \u001b[95m[NORMAL]\u001b[00m \u001b[0m \u001b[94m<SSNetDataLoader::setup>\u001b[00m meta: Plane 65535 (cols,rows) = (256,256) ... pixel (width,height)=(0,0) ... Left Top (x,y)=(0,0) ... Right Bottom (x,y)=(0,0)\n",
      "    \u001b[95m[NORMAL]\u001b[00m \u001b[0m \u001b[94m<SSNetDataLoader::setup>\u001b[00m meta: Plane 65535 (cols,rows) = (256,256) ... pixel (width,height)=(0,0) ... Left Top (x,y)=(0,0) ... Right Bottom (x,y)=(0,0)\n",
      "    \u001b[95m[NORMAL]\u001b[00m \u001b[0m \u001b[94m<SSNetDataLoader::setup>\u001b[00m meta: Plane 65535 (cols,rows) = (256,256) ... pixel (width,height)=(0,0) ... Left Top (x,y)=(0,0) ... Right Bottom (x,y)=(0,0)\n",
      "    \u001b[95m[NORMAL]\u001b[00m \u001b[0m \u001b[94m<SSNetDataLoader::setup>\u001b[00m Ready to return images with (row,col) size of (256,256)\n"
     ]
    },
    {
     "name": "stderr",
     "output_type": "stream",
     "text": [
      "Warning in <TClass::Init>: no dictionary for class larcv::EventClusterPixel2D is available\n",
      "Warning in <TClass::Init>: no dictionary for class larcv::ClusterPixel2D is available\n",
      "Warning in <TClass::Init>: no dictionary for class larcv::VoxelSetArray is available\n",
      "Warning in <TClass::Init>: no dictionary for class larcv::EventParticle is available\n",
      "Warning in <TClass::Init>: no dictionary for class larcv::ParticleSet is available\n",
      "Warning in <TClass::Init>: no dictionary for class larcv::Particle is available\n",
      "Warning in <TClass::Init>: no dictionary for class larcv::VoxelSet is available\n",
      "Warning in <TClass::Init>: no dictionary for class larcv::Voxel is available\n"
     ]
    }
   ],
   "source": [
    "# load input file\n",
    "inputfile = \"../test_10k.root\"\n",
    "dataloader.setup( inputfile, 0, True )"
   ]
  },
  {
   "cell_type": "code",
   "execution_count": 6,
   "metadata": {},
   "outputs": [],
   "source": [
    "datadict = dataloader.makeTrainingDataDict(1,2)"
   ]
  },
  {
   "cell_type": "code",
   "execution_count": 7,
   "metadata": {},
   "outputs": [
    {
     "data": {
      "text/plain": [
       "['label_t', 'image_t']"
      ]
     },
     "execution_count": 7,
     "metadata": {},
     "output_type": "execute_result"
    }
   ],
   "source": [
    "datadict.keys()"
   ]
  },
  {
   "cell_type": "code",
   "execution_count": 8,
   "metadata": {},
   "outputs": [
    {
     "data": {
      "text/plain": [
       "(1, 1, 256, 256)"
      ]
     },
     "execution_count": 8,
     "metadata": {},
     "output_type": "execute_result"
    }
   ],
   "source": [
    "datadict['image_t'].shape"
   ]
  },
  {
   "cell_type": "code",
   "execution_count": 16,
   "metadata": {},
   "outputs": [
    {
     "data": {
      "image/png": "[encoded data removed]",
      "text/plain": [
       "<matplotlib.figure.Figure at 0x7fd9c41dfa50>"
      ]
     },
     "metadata": {
      "needs_background": "light"
     },
     "output_type": "display_data"
    }
   ],
   "source": [
    "# get image and view image\n",
    "datadict = dataloader.makeTrainingDataDict(1,2)\n",
    "fig, ax = plt.subplots(1,2,figsize=(20, 10))\n",
    "ax[0].imshow(datadict['image_t'][0,0,:,:], cmap='hot', interpolation='nearest')\n",
    "#ax[0].title('Pixel Values')\n",
    "\n",
    "\n",
    "ax[1].imshow(datadict['label_t'][0,0,:,:], cmap='hot', interpolation='nearest')\n",
    "#plt.imshow(datadict['label_t'][0,0,:,:], cmap='hot', interpolation='nearest')\n",
    "#plt.title('Labels Values')\n",
    "#plt.show()\n",
    "fig.show()"
   ]
  },
  {
   "cell_type": "code",
   "execution_count": 15,
   "metadata": {},
   "outputs": [
    {
     "name": "stdout",
     "output_type": "stream",
     "text": [
      "Batch  0\n",
      "elapsed:  1.21215200424 ; secs per batch:  0.121215200424\n",
      "total images loaded:  160 ; secs per image:  0.00757595002651\n",
      "copy time per batch:  0.00160710010678\n",
      "alloc time per batch:  2.99000006635e-05\n",
      "read time per batch:  0.11923429966\n"
     ]
    }
   ],
   "source": [
    "# test throughput\n",
    "from time import time\n",
    "nbatches = 10\n",
    "bsize=16\n",
    "a = time()\n",
    "dataloader.set_verbosity(larcv.msg.kCRITICAL)\n",
    "#dataloader.set_read_mode(ssnet.SSNetDataLoader.kSequential)  # 35 ms/batch of 16\n",
    "#dataloader.set_read_mode(ssnet.SSNetDataLoader.kPartialRandom) # 64 ms/batch of 16\n",
    "dataloader.set_read_mode(ssnet.SSNetDataLoader.kRandomSubBatch) # 108 ms/batch of 16\n",
    "#dataloader.set_read_mode(ssnet.SSNetDataLoader.kCompleteRandom) # 624 ms/batch of 16\n",
    "dataloader.resetTimers()\n",
    "for i in range(nbatches):\n",
    "    if i%10==0:\n",
    "        print \"Batch \",i\n",
    "    datadict = dataloader.makeTrainingDataDict(bsize,2)\n",
    "b = time()\n",
    "elapsed = float(b-a)\n",
    "secs_per_batch = elapsed/float(nbatches)\n",
    "print \"elapsed: \",elapsed,\"; secs per batch: \",secs_per_batch\n",
    "print \"total images loaded: \",nbatches*bsize,\"; secs per image: \",elapsed/float(nbatches*bsize)\n",
    "dt_read = dataloader.getReadTime()\n",
    "dt_alloc = dataloader.getAllocTime()\n",
    "dt_copy = dataloader.getCopyTime()\n",
    "print \"copy time per batch: \",dt_copy/float(nbatches)\n",
    "print \"alloc time per batch: \",dt_alloc/float(nbatches)\n",
    "print \"read time per batch: \",dt_read/float(nbatches)"
   ]
  },
  {
   "cell_type": "code",
   "execution_count": null,
   "metadata": {},
   "outputs": [],
   "source": []
  }
 ],
 "metadata": {
  "kernelspec": {
   "display_name": "Python 2",
   "language": "python",
   "name": "python2"
  },
  "language_info": {
   "codemirror_mode": {
    "name": "ipython",
    "version": 2
   },
   "file_extension": ".py",
   "mimetype": "text/x-python",
   "name": "python",
   "nbconvert_exporter": "python",
   "pygments_lexer": "ipython2",
   "version": "2.7.17"
  }
 },
 "nbformat": 4,
 "nbformat_minor": 2
}
